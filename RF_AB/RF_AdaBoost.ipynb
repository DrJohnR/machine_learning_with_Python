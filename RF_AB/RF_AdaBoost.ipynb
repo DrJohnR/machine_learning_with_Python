{
 "cells": [
  {
   "cell_type": "markdown",
   "id": "e920c13f-a8cb-4609-89a4-06812ec3d9ea",
   "metadata": {
    "tags": []
   },
   "source": [
    "##### Import required modules and functions"
   ]
  },
  {
   "cell_type": "code",
   "execution_count": 9,
   "id": "fe6d6554-db24-4f8d-92e1-c3eff2215a2e",
   "metadata": {
    "tags": []
   },
   "outputs": [],
   "source": [
    "import numpy as np\n",
    "import pandas as pd\n",
    "import matplotlib.pyplot as mpl\n",
    "import seaborn as sb\n",
    "\n",
    "from sklearn.datasets import load_digits\n",
    "from sklearn.model_selection import train_test_split\n",
    "from sklearn.ensemble import RandomForestClassifier\n",
    "from sklearn.metrics import confusion_matrix"
   ]
  },
  {
   "cell_type": "markdown",
   "id": "2565b6ce-8016-4adb-a5d4-817e2749660a",
   "metadata": {},
   "source": [
    "##### Visualisation of example images"
   ]
  },
  {
   "cell_type": "code",
   "execution_count": 10,
   "id": "f659cf8e-902b-48c0-b9fa-8024934c9736",
   "metadata": {},
   "outputs": [
    {
     "data": {
      "image/png": "[encoded data removed]",
      "text/plain": [
       "<Figure size 1152x216 with 10 Axes>"
      ]
     },
     "metadata": {
      "needs_background": "light"
     },
     "output_type": "display_data"
    }
   ],
   "source": [
    "digits = load_digits()\n",
    "\n",
    "# visualise some representative sample images, labelled according to their target output\n",
    "_, axes = mpl.subplots(nrows=1, ncols=10, figsize=(16, 3))\n",
    "for ax, image, label in zip(axes, digits.images, digits.target): # construct tuples of plot axes, image data, and target data\n",
    "    ax.set_axis_off()  # remove axes of each subplot\n",
    "    ax.imshow(image, cmap=mpl.cm.gray_r) # applies an inverse (_r) greyscale colour-map to each image\n",
    "    ax.set_title(f'Target: {label}')"
   ]
  },
  {
   "cell_type": "markdown",
   "id": "7339021e-0fac-46e8-96f6-4eeccc69d673",
   "metadata": {},
   "source": [
    "##### Construct a dataframe from the image data, and an array of the target data"
   ]
  },
  {
   "cell_type": "code",
   "execution_count": 11,
   "id": "3da48713-0f81-45d1-8ff2-e3f551290945",
   "metadata": {},
   "outputs": [
    {
     "data": {
      "text/html": [
       "<div>\n",
       "<style scoped>\n",
       "    .dataframe tbody tr th:only-of-type {\n",
       "        vertical-align: middle;\n",
       "    }\n",
       "\n",
       "    .dataframe tbody tr th {\n",
       "        vertical-align: top;\n",
       "    }\n",
       "\n",
       "    .dataframe thead th {\n",
       "        text-align: right;\n",
       "    }\n",
       "</style>\n",
       "<table border=\"1\" class=\"dataframe\">\n",
       "  <thead>\n",
       "    <tr style=\"text-align: right;\">\n",
       "      <th></th>\n",
       "      <th>0</th>\n",
       "      <th>1</th>\n",
       "      <th>2</th>\n",
       "      <th>3</th>\n",
       "      <th>4</th>\n",
       "      <th>5</th>\n",
       "      <th>6</th>\n",
       "      <th>7</th>\n",
       "      <th>8</th>\n",
       "      <th>9</th>\n",
       "      <th>...</th>\n",
       "      <th>54</th>\n",
       "      <th>55</th>\n",
       "      <th>56</th>\n",
       "      <th>57</th>\n",
       "      <th>58</th>\n",
       "      <th>59</th>\n",
       "      <th>60</th>\n",
       "      <th>61</th>\n",
       "      <th>62</th>\n",
       "      <th>63</th>\n",
       "    </tr>\n",
       "  </thead>\n",
       "  <tbody>\n",
       "    <tr>\n",
       "      <th>0</th>\n",
       "      <td>0.0</td>\n",
       "      <td>0.0</td>\n",
       "      <td>5.0</td>\n",
       "      <td>13.0</td>\n",
       "      <td>9.0</td>\n",
       "      <td>1.0</td>\n",
       "      <td>0.0</td>\n",
       "      <td>0.0</td>\n",
       "      <td>0.0</td>\n",
       "      <td>0.0</td>\n",
       "      <td>...</td>\n",
       "      <td>0.0</td>\n",
       "      <td>0.0</td>\n",
       "      <td>0.0</td>\n",
       "      <td>0.0</td>\n",
       "      <td>6.0</td>\n",
       "      <td>13.0</td>\n",
       "      <td>10.0</td>\n",
       "      <td>0.0</td>\n",
       "      <td>0.0</td>\n",
       "      <td>0.0</td>\n",
       "    </tr>\n",
       "    <tr>\n",
       "      <th>1</th>\n",
       "      <td>0.0</td>\n",
       "      <td>0.0</td>\n",
       "      <td>0.0</td>\n",
       "      <td>12.0</td>\n",
       "      <td>13.0</td>\n",
       "      <td>5.0</td>\n",
       "      <td>0.0</td>\n",
       "      <td>0.0</td>\n",
       "      <td>0.0</td>\n",
       "      <td>0.0</td>\n",
       "      <td>...</td>\n",
       "      <td>0.0</td>\n",
       "      <td>0.0</td>\n",
       "      <td>0.0</td>\n",
       "      <td>0.0</td>\n",
       "      <td>0.0</td>\n",
       "      <td>11.0</td>\n",
       "      <td>16.0</td>\n",
       "      <td>10.0</td>\n",
       "      <td>0.0</td>\n",
       "      <td>0.0</td>\n",
       "    </tr>\n",
       "    <tr>\n",
       "      <th>2</th>\n",
       "      <td>0.0</td>\n",
       "      <td>0.0</td>\n",
       "      <td>0.0</td>\n",
       "      <td>4.0</td>\n",
       "      <td>15.0</td>\n",
       "      <td>12.0</td>\n",
       "      <td>0.0</td>\n",
       "      <td>0.0</td>\n",
       "      <td>0.0</td>\n",
       "      <td>0.0</td>\n",
       "      <td>...</td>\n",
       "      <td>5.0</td>\n",
       "      <td>0.0</td>\n",
       "      <td>0.0</td>\n",
       "      <td>0.0</td>\n",
       "      <td>0.0</td>\n",
       "      <td>3.0</td>\n",
       "      <td>11.0</td>\n",
       "      <td>16.0</td>\n",
       "      <td>9.0</td>\n",
       "      <td>0.0</td>\n",
       "    </tr>\n",
       "    <tr>\n",
       "      <th>3</th>\n",
       "      <td>0.0</td>\n",
       "      <td>0.0</td>\n",
       "      <td>7.0</td>\n",
       "      <td>15.0</td>\n",
       "      <td>13.0</td>\n",
       "      <td>1.0</td>\n",
       "      <td>0.0</td>\n",
       "      <td>0.0</td>\n",
       "      <td>0.0</td>\n",
       "      <td>8.0</td>\n",
       "      <td>...</td>\n",
       "      <td>9.0</td>\n",
       "      <td>0.0</td>\n",
       "      <td>0.0</td>\n",
       "      <td>0.0</td>\n",
       "      <td>7.0</td>\n",
       "      <td>13.0</td>\n",
       "      <td>13.0</td>\n",
       "      <td>9.0</td>\n",
       "      <td>0.0</td>\n",
       "      <td>0.0</td>\n",
       "    </tr>\n",
       "    <tr>\n",
       "      <th>4</th>\n",
       "      <td>0.0</td>\n",
       "      <td>0.0</td>\n",
       "      <td>0.0</td>\n",
       "      <td>1.0</td>\n",
       "      <td>11.0</td>\n",
       "      <td>0.0</td>\n",
       "      <td>0.0</td>\n",
       "      <td>0.0</td>\n",
       "      <td>0.0</td>\n",
       "      <td>0.0</td>\n",
       "      <td>...</td>\n",
       "      <td>0.0</td>\n",
       "      <td>0.0</td>\n",
       "      <td>0.0</td>\n",
       "      <td>0.0</td>\n",
       "      <td>0.0</td>\n",
       "      <td>2.0</td>\n",
       "      <td>16.0</td>\n",
       "      <td>4.0</td>\n",
       "      <td>0.0</td>\n",
       "      <td>0.0</td>\n",
       "    </tr>\n",
       "  </tbody>\n",
       "</table>\n",
       "<p>5 rows × 64 columns</p>\n",
       "</div>"
      ],
      "text/plain": [
       "    0    1    2     3     4     5    6    7    8    9   ...   54   55   56  \\\n",
       "0  0.0  0.0  5.0  13.0   9.0   1.0  0.0  0.0  0.0  0.0  ...  0.0  0.0  0.0   \n",
       "1  0.0  0.0  0.0  12.0  13.0   5.0  0.0  0.0  0.0  0.0  ...  0.0  0.0  0.0   \n",
       "2  0.0  0.0  0.0   4.0  15.0  12.0  0.0  0.0  0.0  0.0  ...  5.0  0.0  0.0   \n",
       "3  0.0  0.0  7.0  15.0  13.0   1.0  0.0  0.0  0.0  8.0  ...  9.0  0.0  0.0   \n",
       "4  0.0  0.0  0.0   1.0  11.0   0.0  0.0  0.0  0.0  0.0  ...  0.0  0.0  0.0   \n",
       "\n",
       "    57   58    59    60    61   62   63  \n",
       "0  0.0  6.0  13.0  10.0   0.0  0.0  0.0  \n",
       "1  0.0  0.0  11.0  16.0  10.0  0.0  0.0  \n",
       "2  0.0  0.0   3.0  11.0  16.0  9.0  0.0  \n",
       "3  0.0  7.0  13.0  13.0   9.0  0.0  0.0  \n",
       "4  0.0  0.0   2.0  16.0   4.0  0.0  0.0  \n",
       "\n",
       "[5 rows x 64 columns]"
      ]
     },
     "execution_count": 11,
     "metadata": {},
     "output_type": "execute_result"
    }
   ],
   "source": [
    "data = pd.DataFrame(digits.data) # predictor data, each 8x8 px image is constructed from 64 numeric values\n",
    "tar = digits.target # predicted data, the digit to be interpreted from each image\n",
    "data.head()"
   ]
  },
  {
   "cell_type": "markdown",
   "id": "5ae57110-6514-48d2-a65a-7320188aefa6",
   "metadata": {},
   "source": [
    "##### Split the data into training and testing sets"
   ]
  },
  {
   "cell_type": "code",
   "execution_count": 12,
   "id": "f8d73ffe-d132-4bf2-89ac-a8a79734ee17",
   "metadata": {},
   "outputs": [
    {
     "data": {
      "text/html": [
       "<div>\n",
       "<style scoped>\n",
       "    .dataframe tbody tr th:only-of-type {\n",
       "        vertical-align: middle;\n",
       "    }\n",
       "\n",
       "    .dataframe tbody tr th {\n",
       "        vertical-align: top;\n",
       "    }\n",
       "\n",
       "    .dataframe thead th {\n",
       "        text-align: right;\n",
       "    }\n",
       "</style>\n",
       "<table border=\"1\" class=\"dataframe\">\n",
       "  <thead>\n",
       "    <tr style=\"text-align: right;\">\n",
       "      <th></th>\n",
       "      <th>0</th>\n",
       "      <th>1</th>\n",
       "      <th>2</th>\n",
       "      <th>3</th>\n",
       "      <th>4</th>\n",
       "      <th>5</th>\n",
       "      <th>6</th>\n",
       "      <th>7</th>\n",
       "      <th>8</th>\n",
       "      <th>9</th>\n",
       "      <th>...</th>\n",
       "      <th>54</th>\n",
       "      <th>55</th>\n",
       "      <th>56</th>\n",
       "      <th>57</th>\n",
       "      <th>58</th>\n",
       "      <th>59</th>\n",
       "      <th>60</th>\n",
       "      <th>61</th>\n",
       "      <th>62</th>\n",
       "      <th>63</th>\n",
       "    </tr>\n",
       "  </thead>\n",
       "  <tbody>\n",
       "    <tr>\n",
       "      <th>1093</th>\n",
       "      <td>0.0</td>\n",
       "      <td>0.0</td>\n",
       "      <td>0.0</td>\n",
       "      <td>7.0</td>\n",
       "      <td>11.0</td>\n",
       "      <td>0.0</td>\n",
       "      <td>0.0</td>\n",
       "      <td>0.0</td>\n",
       "      <td>0.0</td>\n",
       "      <td>0.0</td>\n",
       "      <td>...</td>\n",
       "      <td>14.0</td>\n",
       "      <td>2.0</td>\n",
       "      <td>0.0</td>\n",
       "      <td>0.0</td>\n",
       "      <td>0.0</td>\n",
       "      <td>8.0</td>\n",
       "      <td>16.0</td>\n",
       "      <td>16.0</td>\n",
       "      <td>7.0</td>\n",
       "      <td>0.0</td>\n",
       "    </tr>\n",
       "    <tr>\n",
       "      <th>408</th>\n",
       "      <td>0.0</td>\n",
       "      <td>0.0</td>\n",
       "      <td>9.0</td>\n",
       "      <td>11.0</td>\n",
       "      <td>2.0</td>\n",
       "      <td>0.0</td>\n",
       "      <td>0.0</td>\n",
       "      <td>0.0</td>\n",
       "      <td>0.0</td>\n",
       "      <td>8.0</td>\n",
       "      <td>...</td>\n",
       "      <td>15.0</td>\n",
       "      <td>0.0</td>\n",
       "      <td>0.0</td>\n",
       "      <td>0.0</td>\n",
       "      <td>7.0</td>\n",
       "      <td>9.0</td>\n",
       "      <td>9.0</td>\n",
       "      <td>12.0</td>\n",
       "      <td>4.0</td>\n",
       "      <td>0.0</td>\n",
       "    </tr>\n",
       "    <tr>\n",
       "      <th>1519</th>\n",
       "      <td>0.0</td>\n",
       "      <td>0.0</td>\n",
       "      <td>0.0</td>\n",
       "      <td>10.0</td>\n",
       "      <td>8.0</td>\n",
       "      <td>0.0</td>\n",
       "      <td>0.0</td>\n",
       "      <td>0.0</td>\n",
       "      <td>0.0</td>\n",
       "      <td>0.0</td>\n",
       "      <td>...</td>\n",
       "      <td>12.0</td>\n",
       "      <td>0.0</td>\n",
       "      <td>0.0</td>\n",
       "      <td>0.0</td>\n",
       "      <td>1.0</td>\n",
       "      <td>8.0</td>\n",
       "      <td>16.0</td>\n",
       "      <td>15.0</td>\n",
       "      <td>2.0</td>\n",
       "      <td>0.0</td>\n",
       "    </tr>\n",
       "    <tr>\n",
       "      <th>1741</th>\n",
       "      <td>0.0</td>\n",
       "      <td>0.0</td>\n",
       "      <td>3.0</td>\n",
       "      <td>10.0</td>\n",
       "      <td>16.0</td>\n",
       "      <td>12.0</td>\n",
       "      <td>0.0</td>\n",
       "      <td>0.0</td>\n",
       "      <td>0.0</td>\n",
       "      <td>0.0</td>\n",
       "      <td>...</td>\n",
       "      <td>1.0</td>\n",
       "      <td>0.0</td>\n",
       "      <td>0.0</td>\n",
       "      <td>0.0</td>\n",
       "      <td>1.0</td>\n",
       "      <td>13.0</td>\n",
       "      <td>10.0</td>\n",
       "      <td>1.0</td>\n",
       "      <td>0.0</td>\n",
       "      <td>0.0</td>\n",
       "    </tr>\n",
       "    <tr>\n",
       "      <th>1611</th>\n",
       "      <td>0.0</td>\n",
       "      <td>0.0</td>\n",
       "      <td>10.0</td>\n",
       "      <td>14.0</td>\n",
       "      <td>0.0</td>\n",
       "      <td>0.0</td>\n",
       "      <td>0.0</td>\n",
       "      <td>0.0</td>\n",
       "      <td>0.0</td>\n",
       "      <td>1.0</td>\n",
       "      <td>...</td>\n",
       "      <td>0.0</td>\n",
       "      <td>0.0</td>\n",
       "      <td>0.0</td>\n",
       "      <td>0.0</td>\n",
       "      <td>11.0</td>\n",
       "      <td>12.0</td>\n",
       "      <td>0.0</td>\n",
       "      <td>0.0</td>\n",
       "      <td>0.0</td>\n",
       "      <td>0.0</td>\n",
       "    </tr>\n",
       "    <tr>\n",
       "      <th>...</th>\n",
       "      <td>...</td>\n",
       "      <td>...</td>\n",
       "      <td>...</td>\n",
       "      <td>...</td>\n",
       "      <td>...</td>\n",
       "      <td>...</td>\n",
       "      <td>...</td>\n",
       "      <td>...</td>\n",
       "      <td>...</td>\n",
       "      <td>...</td>\n",
       "      <td>...</td>\n",
       "      <td>...</td>\n",
       "      <td>...</td>\n",
       "      <td>...</td>\n",
       "      <td>...</td>\n",
       "      <td>...</td>\n",
       "      <td>...</td>\n",
       "      <td>...</td>\n",
       "      <td>...</td>\n",
       "      <td>...</td>\n",
       "      <td>...</td>\n",
       "    </tr>\n",
       "    <tr>\n",
       "      <th>1345</th>\n",
       "      <td>0.0</td>\n",
       "      <td>0.0</td>\n",
       "      <td>0.0</td>\n",
       "      <td>14.0</td>\n",
       "      <td>14.0</td>\n",
       "      <td>1.0</td>\n",
       "      <td>0.0</td>\n",
       "      <td>0.0</td>\n",
       "      <td>0.0</td>\n",
       "      <td>0.0</td>\n",
       "      <td>...</td>\n",
       "      <td>10.0</td>\n",
       "      <td>0.0</td>\n",
       "      <td>0.0</td>\n",
       "      <td>0.0</td>\n",
       "      <td>0.0</td>\n",
       "      <td>12.0</td>\n",
       "      <td>16.0</td>\n",
       "      <td>14.0</td>\n",
       "      <td>1.0</td>\n",
       "      <td>0.0</td>\n",
       "    </tr>\n",
       "    <tr>\n",
       "      <th>581</th>\n",
       "      <td>0.0</td>\n",
       "      <td>0.0</td>\n",
       "      <td>0.0</td>\n",
       "      <td>10.0</td>\n",
       "      <td>16.0</td>\n",
       "      <td>6.0</td>\n",
       "      <td>0.0</td>\n",
       "      <td>0.0</td>\n",
       "      <td>0.0</td>\n",
       "      <td>0.0</td>\n",
       "      <td>...</td>\n",
       "      <td>2.0</td>\n",
       "      <td>0.0</td>\n",
       "      <td>0.0</td>\n",
       "      <td>0.0</td>\n",
       "      <td>0.0</td>\n",
       "      <td>8.0</td>\n",
       "      <td>16.0</td>\n",
       "      <td>15.0</td>\n",
       "      <td>1.0</td>\n",
       "      <td>0.0</td>\n",
       "    </tr>\n",
       "    <tr>\n",
       "      <th>121</th>\n",
       "      <td>0.0</td>\n",
       "      <td>0.0</td>\n",
       "      <td>0.0</td>\n",
       "      <td>12.0</td>\n",
       "      <td>13.0</td>\n",
       "      <td>0.0</td>\n",
       "      <td>0.0</td>\n",
       "      <td>0.0</td>\n",
       "      <td>0.0</td>\n",
       "      <td>0.0</td>\n",
       "      <td>...</td>\n",
       "      <td>0.0</td>\n",
       "      <td>0.0</td>\n",
       "      <td>0.0</td>\n",
       "      <td>0.0</td>\n",
       "      <td>0.0</td>\n",
       "      <td>11.0</td>\n",
       "      <td>13.0</td>\n",
       "      <td>0.0</td>\n",
       "      <td>0.0</td>\n",
       "      <td>0.0</td>\n",
       "    </tr>\n",
       "    <tr>\n",
       "      <th>1262</th>\n",
       "      <td>0.0</td>\n",
       "      <td>2.0</td>\n",
       "      <td>14.0</td>\n",
       "      <td>16.0</td>\n",
       "      <td>16.0</td>\n",
       "      <td>7.0</td>\n",
       "      <td>0.0</td>\n",
       "      <td>0.0</td>\n",
       "      <td>0.0</td>\n",
       "      <td>6.0</td>\n",
       "      <td>...</td>\n",
       "      <td>2.0</td>\n",
       "      <td>0.0</td>\n",
       "      <td>0.0</td>\n",
       "      <td>1.0</td>\n",
       "      <td>14.0</td>\n",
       "      <td>16.0</td>\n",
       "      <td>16.0</td>\n",
       "      <td>6.0</td>\n",
       "      <td>0.0</td>\n",
       "      <td>0.0</td>\n",
       "    </tr>\n",
       "    <tr>\n",
       "      <th>681</th>\n",
       "      <td>0.0</td>\n",
       "      <td>0.0</td>\n",
       "      <td>15.0</td>\n",
       "      <td>12.0</td>\n",
       "      <td>11.0</td>\n",
       "      <td>6.0</td>\n",
       "      <td>2.0</td>\n",
       "      <td>0.0</td>\n",
       "      <td>0.0</td>\n",
       "      <td>4.0</td>\n",
       "      <td>...</td>\n",
       "      <td>0.0</td>\n",
       "      <td>0.0</td>\n",
       "      <td>0.0</td>\n",
       "      <td>0.0</td>\n",
       "      <td>13.0</td>\n",
       "      <td>16.0</td>\n",
       "      <td>6.0</td>\n",
       "      <td>0.0</td>\n",
       "      <td>0.0</td>\n",
       "      <td>0.0</td>\n",
       "    </tr>\n",
       "  </tbody>\n",
       "</table>\n",
       "<p>1347 rows × 64 columns</p>\n",
       "</div>"
      ],
      "text/plain": [
       "       0    1     2     3     4     5    6    7    8    9   ...    54   55  \\\n",
       "1093  0.0  0.0   0.0   7.0  11.0   0.0  0.0  0.0  0.0  0.0  ...  14.0  2.0   \n",
       "408   0.0  0.0   9.0  11.0   2.0   0.0  0.0  0.0  0.0  8.0  ...  15.0  0.0   \n",
       "1519  0.0  0.0   0.0  10.0   8.0   0.0  0.0  0.0  0.0  0.0  ...  12.0  0.0   \n",
       "1741  0.0  0.0   3.0  10.0  16.0  12.0  0.0  0.0  0.0  0.0  ...   1.0  0.0   \n",
       "1611  0.0  0.0  10.0  14.0   0.0   0.0  0.0  0.0  0.0  1.0  ...   0.0  0.0   \n",
       "...   ...  ...   ...   ...   ...   ...  ...  ...  ...  ...  ...   ...  ...   \n",
       "1345  0.0  0.0   0.0  14.0  14.0   1.0  0.0  0.0  0.0  0.0  ...  10.0  0.0   \n",
       "581   0.0  0.0   0.0  10.0  16.0   6.0  0.0  0.0  0.0  0.0  ...   2.0  0.0   \n",
       "121   0.0  0.0   0.0  12.0  13.0   0.0  0.0  0.0  0.0  0.0  ...   0.0  0.0   \n",
       "1262  0.0  2.0  14.0  16.0  16.0   7.0  0.0  0.0  0.0  6.0  ...   2.0  0.0   \n",
       "681   0.0  0.0  15.0  12.0  11.0   6.0  2.0  0.0  0.0  4.0  ...   0.0  0.0   \n",
       "\n",
       "       56   57    58    59    60    61   62   63  \n",
       "1093  0.0  0.0   0.0   8.0  16.0  16.0  7.0  0.0  \n",
       "408   0.0  0.0   7.0   9.0   9.0  12.0  4.0  0.0  \n",
       "1519  0.0  0.0   1.0   8.0  16.0  15.0  2.0  0.0  \n",
       "1741  0.0  0.0   1.0  13.0  10.0   1.0  0.0  0.0  \n",
       "1611  0.0  0.0  11.0  12.0   0.0   0.0  0.0  0.0  \n",
       "...   ...  ...   ...   ...   ...   ...  ...  ...  \n",
       "1345  0.0  0.0   0.0  12.0  16.0  14.0  1.0  0.0  \n",
       "581   0.0  0.0   0.0   8.0  16.0  15.0  1.0  0.0  \n",
       "121   0.0  0.0   0.0  11.0  13.0   0.0  0.0  0.0  \n",
       "1262  0.0  1.0  14.0  16.0  16.0   6.0  0.0  0.0  \n",
       "681   0.0  0.0  13.0  16.0   6.0   0.0  0.0  0.0  \n",
       "\n",
       "[1347 rows x 64 columns]"
      ]
     },
     "execution_count": 12,
     "metadata": {},
     "output_type": "execute_result"
    }
   ],
   "source": [
    "# split the data into training and testing sets; predictors are the pixel values, target output is the digit to be identified.\n",
    "X_train, X_test, Y_train, Y_test = train_test_split(\n",
    "    data,  # the complete dataframe\n",
    "    tar,  # digit values to be predicted\n",
    "    test_size=0.25,  # percentage of total samples to be allocated to the testing set\n",
    "    random_state=16  # set a random seed to ensure results are reproducible\n",
    ")\n",
    "\n",
    "X_train"
   ]
  },
  {
   "cell_type": "markdown",
   "id": "20cfc117-5580-42b9-b320-7cf5a7d40ede",
   "metadata": {},
   "source": [
    "##### Define the model parameters, train and test"
   ]
  },
  {
   "cell_type": "code",
   "execution_count": 13,
   "id": "ae35ab9a-1920-4756-b87f-8328c0ad77f1",
   "metadata": {},
   "outputs": [
    {
     "name": "stdout",
     "output_type": "stream",
     "text": [
      "0.9688888888888889\n"
     ]
    }
   ],
   "source": [
    "model = RandomForestClassifier(  # set the parameters of the Random Forest model to be applied to dataset\n",
    "    n_estimators=20,  # number of trees to generate in the forest\n",
    "    criterion='gini',  # quality of node splitting is determined by Gini impurity (default), or information gain: criterion='entropy'\n",
    "    max_features='auto'  # number of features (pixels) to consider when splitting nodes, 'auto' == 'sqrt' (default)\n",
    ")\n",
    "\n",
    "model.fit(X_train, Y_train)  # train the RF model on the training data\n",
    "print(model.score(X_test, Y_test) )  # returns the mean classification accuracy of the test data compared to the test target data\n",
    "Y_pred = model.predict(X_test)"
   ]
  },
  {
   "cell_type": "code",
   "execution_count": 14,
   "id": "16a9a5b1-563a-4ba2-ba4f-21eb24d13b10",
   "metadata": {},
   "outputs": [
    {
     "name": "stdout",
     "output_type": "stream",
     "text": [
      "{0: 0, 1: 0, 2: 1, 3: 0, 4: 1, 5: 3, 6: 0, 7: 1, 8: 6, 9: 2}\n",
      "8\n"
     ]
    }
   ],
   "source": [
    "# generate a dictionary of incorrect test predictions: {key : value} = {target digit : number of misclassifications}\n",
    "miss = {i : np.bincount(Y_test[Y_pred != Y_test]).tolist()[i] for i in range(10) }\n",
    "print(miss)\n",
    "print(max(miss, key=miss.get))  # return the digit which is most frequently misclassified"
   ]
  },
  {
   "cell_type": "markdown",
   "id": "ae94f08e-aca3-471e-b2c1-8cdd9df1ad93",
   "metadata": {},
   "source": [
    "##### Visualise the model's classification accuracy"
   ]
  },
  {
   "cell_type": "code",
   "execution_count": 16,
   "id": "01d27321-d679-4389-b806-4116611adfda",
   "metadata": {},
   "outputs": [
    {
     "data": {
      "text/plain": [
       "Text(69.0, 0.5, 'Predicted')"
      ]
     },
     "execution_count": 16,
     "metadata": {},
     "output_type": "execute_result"
    },
    {
     "data": {
      "image/png": "[encoded data removed]",
      "text/plain": [
       "<Figure size 720x504 with 2 Axes>"
      ]
     },
     "metadata": {
      "needs_background": "light"
     },
     "output_type": "display_data"
    }
   ],
   "source": [
    "# generate a heatmap representation of the RF confusion matrix\n",
    "mpl.figure(figsize=(10,7))\n",
    "hm = sb.heatmap(np.transpose(confusion_matrix(Y_test, Y_pred) ), annot=True)\n",
    "hm.invert_yaxis()\n",
    "mpl.title('Confusion matrix for Random Forest predictions of digits')\n",
    "mpl.xlabel('Target (\\'Truth\\')')\n",
    "mpl.ylabel('Predicted')"
   ]
  },
  {
   "cell_type": "markdown",
   "id": "ab0d7705-2fed-4f03-942c-4af6b3ebeed3",
   "metadata": {},
   "source": [
    "##### Attempt to improve classification using Adaptive Boosting (AdaBoost) "
   ]
  },
  {
   "cell_type": "code",
   "execution_count": 17,
   "id": "798203eb-75e8-4c2a-b803-ef2034fceccc",
   "metadata": {},
   "outputs": [],
   "source": [
    "from sklearn.ensemble import AdaBoostClassifier"
   ]
  },
  {
   "cell_type": "code",
   "execution_count": 18,
   "id": "6a297c70-aadf-438b-ae80-3d417481e9ff",
   "metadata": {},
   "outputs": [
    {
     "name": "stdout",
     "output_type": "stream",
     "text": [
      "0.8822222222222222\n"
     ]
    }
   ],
   "source": [
    "model_AB = AdaBoostClassifier( # 320 stumps, 2.4 rate --> 0.8822 accuracy\n",
    "    base_estimator=None,  # classifier type, 'None' defaults to decision trees with max_depth = 1 ('stumps')\n",
    "    n_estimators=320,  # number of classifiers (stumps) / weak learners to be trained \n",
    "    learning_rate = 2.4,  # weight applied to each learner at each boosting iteration\n",
    "    random_state=6  # set a random seed to ensure results are reproducible\n",
    ")\n",
    "\n",
    "model_AB.fit(X_train, Y_train)  # train the learners on the training data, implementing the AdaBoost algorithm\n",
    "print(model_AB.score(X_test, Y_test) )  # returns the mean classification accuracy of the test data compared to the test target data\n",
    "Y_pred_AB = model_AB.predict(X_test)"
   ]
  },
  {
   "cell_type": "code",
   "execution_count": 19,
   "id": "4e820f40-733b-42c5-8b71-3a1a2df05e98",
   "metadata": {},
   "outputs": [
    {
     "name": "stdout",
     "output_type": "stream",
     "text": [
      "{0: 2, 1: 8, 2: 9, 3: 5, 4: 7, 5: 3, 6: 1, 7: 10, 8: 4, 9: 4}\n",
      "7\n"
     ]
    }
   ],
   "source": [
    "# generate a dictionary of incorrect test predictions: {key : value} = {target digit : number of misclassifications}\n",
    "miss_AB = {i : np.bincount(Y_test[Y_pred_AB != Y_test]).tolist()[i] for i in range(10) }\n",
    "print(miss_AB)\n",
    "print(max(miss_AB, key=miss_AB.get))  # return the digit which is most frequently misclassified by the weak learners"
   ]
  },
  {
   "cell_type": "code",
   "execution_count": 20,
   "id": "225acc6f-f1ec-4208-9ac6-81c4bd3fb04f",
   "metadata": {},
   "outputs": [
    {
     "data": {
      "text/plain": [
       "Text(69.0, 0.5, 'Predicted')"
      ]
     },
     "execution_count": 20,
     "metadata": {},
     "output_type": "execute_result"
    },
    {
     "data": {
      "image/png": "[encoded data removed]",
      "text/plain": [
       "<Figure size 720x504 with 2 Axes>"
      ]
     },
     "metadata": {
      "needs_background": "light"
     },
     "output_type": "display_data"
    }
   ],
   "source": [
    "# generate a heatmap representation of the AdaBoost confusion matrix\n",
    "mpl.figure(figsize=(10,7))\n",
    "hm_AB = sb.heatmap(np.transpose(confusion_matrix(Y_test, Y_pred_AB) ), annot=True)\n",
    "hm_AB.invert_yaxis()\n",
    "mpl.title('Confusion matrix for AdaBoost predictions of digits')\n",
    "mpl.xlabel('Target (\\'Truth\\')')\n",
    "mpl.ylabel('Predicted')"
   ]
  },
  {
   "cell_type": "markdown",
   "id": "74189ddd-edfa-42da-8f98-69f8615e0bf6",
   "metadata": {},
   "source": [
    "###### Ideally, implementation of the AdaBoost algorithm would be optimised by choosing number of estimators and learning rate which maximise predicted classification accuracy."
   ]
  }
 ],
 "metadata": {
  "kernelspec": {
   "display_name": "Python 3 (ipykernel)",
   "language": "python",
   "name": "python3"
  },
  "language_info": {
   "codemirror_mode": {
    "name": "ipython",
    "version": 3
   },
   "file_extension": ".py",
   "mimetype": "text/x-python",
   "name": "python",
   "nbconvert_exporter": "python",
   "pygments_lexer": "ipython3",
   "version": "3.9.6"
  }
 },
 "nbformat": 4,
 "nbformat_minor": 5
}
